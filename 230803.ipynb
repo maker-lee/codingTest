{
 "cells": [
  {
   "cell_type": "markdown",
   "metadata": {},
   "source": [
    "# 기사단원의 무기\n",
    "\n",
    "문제 설명\n",
    "숫자나라 기사단의 각 기사에게는 1번부터 number까지 번호가 지정되어 있습니다. 기사들은 무기점에서 무기를 구매하려고 합니다.\n",
    "각 기사는 자신의 기사 번호의 약수 개수에 해당하는 공격력을 가진 무기를 구매하려 합니다. 단, 이웃나라와의 협약에 의해 공격력의 제한수치를 정하고, 제한수치보다 큰 공격력을 가진 무기를 구매해야 하는 기사는 협약기관에서 정한 공격력을 가지는 무기를 구매해야 합니다.\n",
    "예를 들어, 15번으로 지정된 기사단원은 15의 약수가 1, 3, 5, 15로 4개 이므로, 공격력이 4인 무기를 구매합니다. 만약, 이웃나라와의 협약으로 정해진 공격력의 제한수치가 3이고 제한수치를 초과한 기사가 사용할 무기의 공격력이 2라면, 15번으로 지정된 기사단원은 무기점에서 공격력이 2인 무기를 구매합니다. 무기를 만들 때, 무기의 공격력 1당 1kg의 철이 필요합니다. 그래서 무기점에서 무기를 모두 만들기 위해 필요한 철의 무게를 미리 계산하려 합니다.\n",
    "기사단원의 수를 나타내는 정수 number와 이웃나라와 협약으로 정해진 공격력의 제한수치를 나타내는 정수 limit와 제한수치를 초과한 기사가 사용할 무기의 공격력을 나타내는 정수 power가 주어졌을 때, 무기점의 주인이 무기를 모두 만들기 위해 필요한 철의 무게를 return 하는 solution 함수를 완성하시오.\n",
    "\n",
    "제한사항\n",
    "1 ≤ number ≤ 100,000\n",
    "2 ≤ limit ≤ 100\n",
    "1 ≤ power ≤ limit\n",
    "입출력 예\n",
    "number\tlimit\tpower\tresult\n",
    "5\t3\t2\t10\n",
    "10\t3\t2\t21\n",
    "\n",
    "입출력 예 설명\n",
    "입출력 예 #1\n",
    "1부터 5까지의 약수의 개수는 순서대로 [1, 2, 2, 3, 2]개입니다. 모두 공격력 제한 수치인 3을 넘지 않기 때문에 필요한 철의 무게는 해당 수들의 합인 10이 됩니다. 따라서 10을 return 합니다.\n",
    "\n",
    "입출력 예 #2\n",
    "1부터 10까지의 약수의 개수는 순서대로 [1, 2, 2, 3, 2, 4, 2, 4, 3, 4]개입니다. 공격력의 제한수치가 3이기 때문에, 6, 8, 10번 기사는 공격력이 2인 무기를 구매합니다. 따라서 해당 수들의 합인 21을 return 합니다."
   ]
  },
  {
   "cell_type": "code",
   "execution_count": 16,
   "metadata": {},
   "outputs": [
    {
     "data": {
      "text/plain": [
       "21"
      ]
     },
     "execution_count": 16,
     "metadata": {},
     "output_type": "execute_result"
    }
   ],
   "source": [
    "number = 10\n",
    "limit = 3\n",
    "power = 2 # result 10\n",
    "\n",
    "# 약수구하기\n",
    "def getMyDivisor(n):\n",
    "    divisorsList = []\n",
    "    for i in range(1, int(n**(1/2)) + 1):\n",
    "        if (n % i == 0):\n",
    "            divisorsList.append(i) \n",
    "            if ((i**2)!= n) : \n",
    "                divisorsList.append(n // i)   \n",
    "    return len(divisorsList)\n",
    "\n",
    "answer = []\n",
    "for i in range(1,number+1) :\n",
    "    weapon = getMyDivisor(i)\n",
    "    if weapon > limit :\n",
    "        answer.append(power)\n",
    "    else :\n",
    "        answer.append(weapon)\n",
    "sum(answer)\n",
    "\n"
   ]
  },
  {
   "cell_type": "markdown",
   "metadata": {},
   "source": [
    "# 카카오 [1차] 다트 게임\n",
    "\n",
    "카카오톡 게임별의 하반기 신규 서비스로 다트 게임을 출시하기로 했다. 다트 게임은 다트판에 다트를 세 차례 던져 그 점수의 합계로 실력을 겨루는 게임으로, 모두가 간단히 즐길 수 있다.\n",
    "갓 입사한 무지는 코딩 실력을 인정받아 게임의 핵심 부분인 점수 계산 로직을 맡게 되었다. 다트 게임의 점수 계산 로직은 아래와 같다.\n",
    "\n",
    "다트 게임은 총 3번의 기회로 구성된다.\n",
    "각 기회마다 얻을 수 있는 점수는 0점에서 10점까지이다.\n",
    "점수와 함께 Single(S), Double(D), Triple(T) 영역이 존재하고 각 영역 당첨 시 점수에서 1제곱, 2제곱, 3제곱 (점수1 , 점수2 , 점수3 )으로 계산된다.\n",
    "옵션으로 스타상(*) , 아차상(#)이 존재하며 스타상(*) 당첨 시 해당 점수와 바로 전에 얻은 점수를 각 2배로 만든다. 아차상(#) 당첨 시 해당 점수는 마이너스된다.\n",
    "스타상(*)은 첫 번째 기회에서도 나올 수 있다. 이 경우 첫 번째 스타상(*)의 점수만 2배가 된다. (예제 4번 참고)\n",
    "스타상(*)의 효과는 다른 스타상(*)의 효과와 중첩될 수 있다. 이 경우 중첩된 스타상(*) 점수는 4배가 된다. (예제 4번 참고)\n",
    "스타상(*)의 효과는 아차상(#)의 효과와 중첩될 수 있다. 이 경우 중첩된 아차상(#)의 점수는 -2배가 된다. (예제 5번 참고)\n",
    "Single(S), Double(D), Triple(T)은 점수마다 하나씩 존재한다.\n",
    "스타상(*), 아차상(#)은 점수마다 둘 중 하나만 존재할 수 있으며, 존재하지 않을 수도 있다.\n",
    "0~10의 정수와 문자 S, D, T, *, #로 구성된 문자열이 입력될 시 총점수를 반환하는 함수를 작성하라.\n",
    "\n",
    "입력 형식\n",
    "\"점수|보너스|[옵션]\"으로 이루어진 문자열 3세트.\n",
    "예) 1S2D*3T\n",
    "\n",
    "점수는 0에서 10 사이의 정수이다.\n",
    "보너스는 S, D, T 중 하나이다.\n",
    "옵선은 *이나 # 중 하나이며, 없을 수도 있다.\n",
    "출력 형식\n",
    "3번의 기회에서 얻은 점수 합계에 해당하는 정수값을 출력한다.\n",
    "예) 37\n",
    "\n",
    "입출력 예제\n",
    "예제\tdartResult\tanswer\t설명\n",
    "1\t1S2D*3T\t37\t11 * 2 + 22 * 2 + 33\n",
    "2\t1D2S#10S\t9\t12 + 21 * (-1) + 101\n",
    "3\t1D2S0T\t3\t12 + 21 + 03\n",
    "4\t1S*2T*3S\t23\t11 * 2 * 2 + 23 * 2 + 31\n",
    "5\t1D#2S*3S\t5\t12 * (-1) * 2 + 21 * 2 + 31\n",
    "6\t1T2D3D#\t-4\t13 + 22 + 32 * (-1)\n",
    "7\t1D2S3T*\t59\t12 + 21 * 2 + 33 * 2\n",
    "\n",
    "\n",
    "\n",
    "https://tech.kakao.com/2017/09/27/kakao-blind-recruitment-round-1/"
   ]
  },
  {
   "cell_type": "code",
   "execution_count": 8,
   "metadata": {},
   "outputs": [
    {
     "data": {
      "text/plain": [
       "37"
      ]
     },
     "execution_count": 8,
     "metadata": {},
     "output_type": "execute_result"
    }
   ],
   "source": [
    "def solution(dartResult):\n",
    "    answer = [] # 숫자만 저장될 리스트\n",
    "    dartResult = dartResult.replace(\"10\", \"십\") # 계산하기 편하게 하기 위해 10을 A로 변환\n",
    "    sdt = [\"페퍼민트\",'S','D','T'] # 맨 앞은 0제곱 , S: 1제곱, D: 2제곱, T: 3제곱\n",
    "\n",
    "    # 시작 숫자 temp에 저장하기 \n",
    "    if dartResult[0] == \"십\":\n",
    "        temp_num = 10\n",
    "    else:\n",
    "        temp_num = int(dartResult[0])\n",
    "\n",
    "    # 문자 돌기\n",
    "    for i in dartResult[1:]:\n",
    "\n",
    "        # 문자가 sdt \n",
    "        if i in sdt: \n",
    "            temp_num = temp_num ** (sdt.index(i)) # 현재 수에서 sdt의 인덱스 번호로 제곱을 한다.\n",
    "\n",
    "        # 문자가 \"*\"\n",
    "        elif i == \"*\":\n",
    "            temp_num *= 2 # 두배, 앞타임도 두배 \n",
    "            if answer :\n",
    "                answer[-1] *= 2\n",
    "\n",
    "        # 문자가 \"#\"\n",
    "        elif i == \"#\":\n",
    "            temp_num *= -1 # 음수 \n",
    "\n",
    "        # 문자가 아니면 숫자니까\n",
    "        else:\n",
    "            answer.append(temp_num) # 점수를 answer 추가\n",
    "\n",
    "            # 숫자를 temp_num에 넣어줌\n",
    "            if i == \"십\":\n",
    "                i = 10\n",
    "            temp_num = int(i)\n",
    "\n",
    "    # 마지막 게임 점수 추가\n",
    "    answer.append(temp_num)\n",
    "\n",
    "    return sum(answer)\n",
    "\n",
    "solution(\"1S2D*3T\")"
   ]
  },
  {
   "cell_type": "markdown",
   "metadata": {},
   "source": [
    "# 로또의 최고 순위와 최저 순위\n",
    "\n",
    "\n",
    "문제 설명\n",
    "로또 6/45(이하 '로또'로 표기)는 1부터 45까지의 숫자 중 6개를 찍어서 맞히는 대표적인 복권입니다. 아래는 로또의 순위를 정하는 방식입니다. 1\n",
    "\n",
    "순위\t당첨 내용\n",
    "1\t6개 번호가 모두 일치\n",
    "2\t5개 번호가 일치\n",
    "3\t4개 번호가 일치\n",
    "4\t3개 번호가 일치\n",
    "5\t2개 번호가 일치\n",
    "6(낙첨)\t그 외\n",
    "로또를 구매한 민우는 당첨 번호 발표일을 학수고대하고 있었습니다. 하지만, 민우의 동생이 로또에 낙서를 하여, 일부 번호를 알아볼 수 없게 되었습니다. 당첨 번호 발표 후, 민우는 자신이 구매했던 로또로 당첨이 가능했던 최고 순위와 최저 순위를 알아보고 싶어 졌습니다.\n",
    "알아볼 수 없는 번호를 0으로 표기하기로 하고, 민우가 구매한 로또 번호 6개가 44, 1, 0, 0, 31 25라고 가정해보겠습니다. 당첨 번호 6개가 31, 10, 45, 1, 6, 19라면, 당첨 가능한 최고 순위와 최저 순위의 한 예는 아래와 같습니다.\n",
    "\n",
    "당첨 번호\t31\t10\t45\t1\t6\t19\t결과\n",
    "최고 순위 번호\t31\t0→10\t44\t1\t0→6\t25\t4개 번호 일치, 3등\n",
    "최저 순위 번호\t31\t0→11\t44\t1\t0→7\t25\t2개 번호 일치, 5등\n",
    "순서와 상관없이, 구매한 로또에 당첨 번호와 일치하는 번호가 있으면 맞힌 걸로 인정됩니다.\n",
    "알아볼 수 없는 두 개의 번호를 각각 10, 6이라고 가정하면 3등에 당첨될 수 있습니다.\n",
    "3등을 만드는 다른 방법들도 존재합니다. 하지만, 2등 이상으로 만드는 것은 불가능합니다.\n",
    "알아볼 수 없는 두 개의 번호를 각각 11, 7이라고 가정하면 5등에 당첨될 수 있습니다.\n",
    "5등을 만드는 다른 방법들도 존재합니다. 하지만, 6등(낙첨)으로 만드는 것은 불가능합니다.\n",
    "민우가 구매한 로또 번호를 담은 배열 lottos, 당첨 번호를 담은 배열 win_nums가 매개변수로 주어집니다. 이때, 당첨 가능한 최고 순위와 최저 순위를 차례대로 배열에 담아서 return 하도록 solution 함수를 완성해주세요.\n",
    "\n",
    "제한사항\n",
    "lottos는 길이 6인 정수 배열입니다.\n",
    "lottos의 모든 원소는 0 이상 45 이하인 정수입니다.\n",
    "0은 알아볼 수 없는 숫자를 의미합니다.\n",
    "0을 제외한 다른 숫자들은 lottos에 2개 이상 담겨있지 않습니다.\n",
    "lottos의 원소들은 정렬되어 있지 않을 수도 있습니다.\n",
    "win_nums은 길이 6인 정수 배열입니다.\n",
    "win_nums의 모든 원소는 1 이상 45 이하인 정수입니다.\n",
    "win_nums에는 같은 숫자가 2개 이상 담겨있지 않습니다.\n",
    "win_nums의 원소들은 정렬되어 있지 않을 수도 있습니다.\n",
    "입출력 예\n",
    "lottos\twin_nums\tresult\n",
    "[44, 1, 0, 0, 31, 25]\t[31, 10, 45, 1, 6, 19]\t[3, 5]\n",
    "[0, 0, 0, 0, 0, 0]\t[38, 19, 20, 40, 15, 25]\t[1, 6]\n",
    "[45, 4, 35, 20, 3, 9]\t[20, 9, 3, 45, 4, 35]\t[1, 1]\n",
    "입출력 예 설명\n",
    "입출력 예 #1\n",
    "문제 예시와 같습니다.\n",
    "\n",
    "입출력 예 #2\n",
    "알아볼 수 없는 번호들이 아래와 같았다면, 1등과 6등에 당첨될 수 있습니다.\n",
    "\n",
    "당첨 번호\t38\t19\t20\t40\t15\t25\t결과\n",
    "최고 순위 번호\t0→38\t0→19\t0→20\t0→40\t0→15\t0→25\t6개 번호 일치, 1등\n",
    "최저 순위 번호\t0→21\t0→22\t0→23\t0→24\t0→26\t0→27\t0개 번호 일치, 6등\n",
    "입출력 예 #3\n",
    "민우가 구매한 로또의 번호와 당첨 번호가 모두 일치하므로, 최고 순위와 최저 순위는 모두 1등입니다.\n",
    "실제로 사용되는 로또 순위의 결정 방식과는 약간 다르지만, 이 문제에서는 지문에 명시된 대로 로또 순위를 결정하도록 합니다"
   ]
  },
  {
   "cell_type": "code",
   "execution_count": 37,
   "metadata": {},
   "outputs": [
    {
     "data": {
      "text/plain": [
       "[6, 6]"
      ]
     },
     "execution_count": 37,
     "metadata": {},
     "output_type": "execute_result"
    }
   ],
   "source": [
    "lottos = [1, 2, 3, 4, 5, 6]\n",
    "win_nums = [7, 8, 9, 10, 11, 12]\t # result [3, 5]\n",
    "\n",
    "min_cnt = 0\n",
    "for i in lottos :\n",
    "    if i in win_nums :\n",
    "        min_cnt += 1\n",
    "\n",
    "max_cnt = lottos.count(0)\n",
    "\n",
    "if min_cnt == 0 :\n",
    "    answer = [7-max_cnt,7-1]\n",
    "if answer[0] == 7 :\n",
    "    answer = [6,6]\n",
    "else :\n",
    "    answer = [7-(max_cnt+min_cnt),7-min_cnt]\n",
    "answer"
   ]
  },
  {
   "cell_type": "markdown",
   "metadata": {},
   "source": [
    "# 숫자 짝꿍\n",
    "두 정수 X, Y의 임의의 자리에서 공통으로 나타나는 정수 k(0 ≤ k ≤ 9)들을 이용하여 만들 수 있는 가장 큰 정수를 두 수의 짝꿍이라 합니다(단, 공통으로 나타나는 정수 중 서로 짝지을 수 있는 숫자만 사용합니다). X, Y의 짝꿍이 존재하지 않으면, 짝꿍은 -1입니다. X, Y의 짝꿍이 0으로만 구성되어 있다면, 짝꿍은 0입니다.\n",
    "\n",
    "예를 들어, X = 3403이고 Y = 13203이라면, X와 Y의 짝꿍은 X와 Y에서 공통으로 나타나는 3, 0, 3으로 만들 수 있는 가장 큰 정수인 330입니다. 다른 예시로 X = 5525이고 Y = 1255이면 X와 Y의 짝꿍은 X와 Y에서 공통으로 나타나는 2, 5, 5로 만들 수 있는 가장 큰 정수인 552입니다(X에는 5가 3개, Y에는 5가 2개 나타나므로 남는 5 한 개는 짝 지을 수 없습니다.)\n",
    "두 정수 X, Y가 주어졌을 때, X, Y의 짝꿍을 return하는 solution 함수를 완성해주세요.\n",
    "\n",
    "제한사항\n",
    "3 ≤ X, Y의 길이(자릿수) ≤ 3,000,000입니다.\n",
    "X, Y는 0으로 시작하지 않습니다.\n",
    "X, Y의 짝꿍은 상당히 큰 정수일 수 있으므로, 문자열로 반환합니다.\n",
    "입출력 예\n",
    "X\tY\tresult\n",
    "\"100\"\t\"2345\"\t\"-1\"\n",
    "\"100\"\t\"203045\"\t\"0\"\n",
    "\"100\"\t\"123450\"\t\"10\"\n",
    "\"12321\"\t\"42531\"\t\"321\"\n",
    "\"5525\"\t\"1255\"\t\"552\"\n",
    "입출력 예 설명\n",
    "입출력 예 #1\n",
    "\n",
    "X, Y의 짝꿍은 존재하지 않습니다. 따라서 \"-1\"을 return합니다.\n",
    "입출력 예 #2\n",
    "\n",
    "X, Y의 공통된 숫자는 0으로만 구성되어 있기 때문에, 두 수의 짝꿍은 정수 0입니다. 따라서 \"0\"을 return합니다.\n",
    "입출력 예 #3\n",
    "\n",
    "X, Y의 짝꿍은 10이므로, \"10\"을 return합니다.\n",
    "입출력 예 #4\n",
    "\n",
    "X, Y의 짝꿍은 321입니다. 따라서 \"321\"을 return합니다.\n",
    "입출력 예 #5\n"
   ]
  },
  {
   "cell_type": "code",
   "execution_count": 27,
   "metadata": {},
   "outputs": [
    {
     "data": {
      "text/plain": [
       "[0, 0, 0, 0, 0, 0, 0, 0, 0]"
      ]
     },
     "execution_count": 27,
     "metadata": {},
     "output_type": "execute_result"
    }
   ],
   "source": [
    "x_list = [0 for i in range(9)]\n",
    "y_list =  [0 for i in range(9)]\n",
    "x_list"
   ]
  },
  {
   "cell_type": "code",
   "execution_count": 21,
   "metadata": {},
   "outputs": [],
   "source": [
    "def solution(X, Y):\n",
    "    answer = \"\"       \n",
    "    x_list = [0 for i in range(10)]\n",
    "    y_list =  [0 for i in range(10)]\n",
    "    \n",
    "    \n",
    "    for i in X :\n",
    "        x_list[int(i)] += 1\n",
    "\n",
    "    for j in Y :\n",
    "        y_list[int(j)] += 1\n",
    "\n",
    "    for n in range(len(x_list)-1,-1,-1):\n",
    "        if x_list[n] == 0 :\n",
    "            continue\n",
    "        elif y_list[n] > 0 : \n",
    "            a = min(x_list[n],y_list[n])\n",
    "            answer += str(n) * a\n",
    "\n",
    "    if set(answer) == {'0'} :\n",
    "        return '0'      \n",
    "    elif len(answer) == 0 :\n",
    "        return '-1'\n",
    "    else :   \n",
    "        answer = str(answer) \n",
    "        return answer"
   ]
  },
  {
   "cell_type": "code",
   "execution_count": 19,
   "metadata": {},
   "outputs": [
    {
     "name": "stdout",
     "output_type": "stream",
     "text": [
      "[0, 2, 2, 1, 0, 16, 0, 0, 0]\n",
      "[0, 1, 1, 1, 1, 21, 0, 0, 0]\n"
     ]
    }
   ],
   "source": [
    "X = \"123215555555555555555\"\n",
    "Y = \"4255555555555555555555531\"\n",
    "answer = \"\"       \n",
    "x_list = [0 for i in range(9)]\n",
    "y_list =  [0 for i in range(9)]\n",
    "\n",
    "for i in X :\n",
    "    x_list[int(i)] += 1\n",
    "print(x_list)\n",
    "\n",
    "for j in Y :\n",
    "    y_list[int(j)] += 1\n",
    "print(y_list)\n",
    "for n in range(len(x_list)-1,-1,-1):\n",
    "    if x_list[n] == 0 :\n",
    "        continue\n",
    "    elif y_list[n] > 0 : \n",
    "        a = min(x_list[n],y_list[n])\n",
    "        answer += str(n) * a\n",
    "\n",
    "    # if set(answer) == {'0'} :\n",
    "    #     return '0'      \n",
    "    # elif len(answer) == 0 :\n",
    "    #     return '-1'\n",
    "    # else :   \n",
    "    #     answer = str(answer) \n",
    "    #     return answer"
   ]
  },
  {
   "cell_type": "code",
   "execution_count": 24,
   "metadata": {},
   "outputs": [
    {
     "ename": "IndexError",
     "evalue": "list index out of range",
     "output_type": "error",
     "traceback": [
      "\u001b[1;31m---------------------------------------------------------------------------\u001b[0m",
      "\u001b[1;31mIndexError\u001b[0m                                Traceback (most recent call last)",
      "Cell \u001b[1;32mIn[24], line 3\u001b[0m\n\u001b[0;32m      1\u001b[0m X \u001b[39m=\u001b[39m \u001b[39m\"\u001b[39m\u001b[39m999999999999999999999999999999\u001b[39m\u001b[39m\"\u001b[39m\n\u001b[0;32m      2\u001b[0m Y \u001b[39m=\u001b[39m \u001b[39m\"\u001b[39m\u001b[39m00000000000000000000001\u001b[39m\u001b[39m\"\u001b[39m\n\u001b[1;32m----> 3\u001b[0m solution(X, Y)\n",
      "Cell \u001b[1;32mIn[21], line 9\u001b[0m, in \u001b[0;36msolution\u001b[1;34m(X, Y)\u001b[0m\n\u001b[0;32m      6\u001b[0m y_list \u001b[39m=\u001b[39m  [\u001b[39m0\u001b[39m \u001b[39mfor\u001b[39;00m i \u001b[39min\u001b[39;00m \u001b[39mrange\u001b[39m(\u001b[39m9\u001b[39m)]\n\u001b[0;32m      8\u001b[0m \u001b[39mfor\u001b[39;00m i \u001b[39min\u001b[39;00m X :\n\u001b[1;32m----> 9\u001b[0m     x_list[\u001b[39mint\u001b[39;49m(i)] \u001b[39m+\u001b[39m\u001b[39m=\u001b[39m \u001b[39m1\u001b[39m\n\u001b[0;32m     11\u001b[0m \u001b[39mfor\u001b[39;00m j \u001b[39min\u001b[39;00m Y :\n\u001b[0;32m     12\u001b[0m     y_list[\u001b[39mint\u001b[39m(j)] \u001b[39m+\u001b[39m\u001b[39m=\u001b[39m \u001b[39m1\u001b[39m\n",
      "\u001b[1;31mIndexError\u001b[0m: list index out of range"
     ]
    }
   ],
   "source": [
    "X = \"999999999999999999999999999999\"\n",
    "Y = \"00000000000000000000001\"\n",
    "solution(X, Y)"
   ]
  },
  {
   "cell_type": "markdown",
   "metadata": {},
   "source": [
    "# 옹알이 (2)\n",
    "문제 설명\n",
    "머쓱이는 태어난 지 11개월 된 조카를 돌보고 있습니다. 조카는 아직 \"aya\", \"ye\", \"woo\", \"ma\" 네 가지 발음과 네 가지 발음을 조합해서 만들 수 있는 발음밖에 하지 못하고 연속해서 같은 발음을 하는 것을 어려워합니다. 문자열 배열 babbling이 매개변수로 주어질 때, 머쓱이의 조카가 발음할 수 있는 단어의 개수를 return하도록 solution 함수를 완성해주세요.\n",
    "\n",
    "제한사항\n",
    "1 ≤ babbling의 길이 ≤ 100\n",
    "1 ≤ babbling[i]의 길이 ≤ 30\n",
    "문자열은 알파벳 소문자로만 이루어져 있습니다.\n",
    "\n",
    "입출력 예\n",
    "babbling\tresult\n",
    "[\"aya\", \"yee\", \"u\", \"maa\"]\t1\n",
    "[\"ayaye\", \"uuu\", \"yeye\", \"yemawoo\", \"ayaayaa\"]\t2\n",
    "\n",
    "입출력 예 설명\n",
    "입출력 예 #1\n",
    "[\"aya\", \"yee\", \"u\", \"maa\"]에서 발음할 수 있는 것은 \"aya\"뿐입니다. 따라서 1을 return합니다.\n",
    "\n",
    "입출력 예 #2\n",
    "[\"ayaye\", \"uuuma\", \"yeye\", \"yemawoo\", \"ayaayaa\"]에서 발음할 수 있는 것은 \"aya\" + \"ye\" = \"ayaye\", \"ye\" + \"ma\" + \"woo\" = \"yemawoo\"로 2개입니다. \"yeye\"는 같은 발음이 연속되므로 발음할 수 없습니다. 따라서 2를 return합니다.\n",
    "유의사항\n",
    "네 가지를 붙여 만들 수 있는 발음 이외에는 어떤 발음도 할 수 없는 것으로 규정합니다. 예를 들어 \"woowo\"는 \"woo\"는 발음할 수 있지만 \"wo\"를 발음할 수 없기 때문에 할 수 없는 발음입니다."
   ]
  },
  {
   "cell_type": "code",
   "execution_count": 17,
   "metadata": {},
   "outputs": [
    {
     "name": "stdout",
     "output_type": "stream",
     "text": [
      "['1ye', 'aya1', 'ayaye', 'ayaye', 'uuu', 'uuu', 'uuu', 'uuu', 'yeye', '11', 'yeye', 'yeye', 'yemawoo', '1mawoo', 'yema1', 'ye1woo', '11a', 'ayaayaa', 'ayaayaa', 'ayaayaa', 'woowoowoo', 'woowoowoo', '111', 'woowoowoo']\n"
     ]
    }
   ],
   "source": [
    "kid_dic = {\"aya\":\"1\", \"ye\":\"2\", \"woo\":\"3\", \"ma\":\"4\"}\n",
    "kid = [\"aya\", \"ye\", \"woo\", \"ma\"]\n",
    "babbling = [\"ayaye\", \"uuu\", \"yeye\", \"yemawoo\", \"ayaayaa\",\"woowoowoo\"] #2\n",
    "result = []\n",
    "\n",
    "for i in babbling :    \n",
    "    for j in kid :\n",
    "        result.append(i.replace(j,kid_dic['aya']))\n",
    "print(result)\n"
   ]
  },
  {
   "cell_type": "code",
   "execution_count": 12,
   "metadata": {},
   "outputs": [
    {
     "data": {
      "text/plain": [
       "['1ye']"
      ]
     },
     "execution_count": 12,
     "metadata": {},
     "output_type": "execute_result"
    }
   ],
   "source": [
    "a = []\n",
    "a.append(\"ayaye\".replace(\"aya\",\"1\"))\n",
    "a\n"
   ]
  },
  {
   "cell_type": "code",
   "execution_count": null,
   "metadata": {},
   "outputs": [],
   "source": [
    "\n",
    "# 오염 불가 \n",
    "\n",
    "\n",
    "\n",
    "\n",
    "for i in babbling :\n",
    "    cnt = 0 \n",
    "    word = \"\"\n",
    "    \n",
    "    for j in i :\n",
    "        word += j\n",
    "        if word in kid :\n",
    "            word = \"\"\n",
    "            cnt += 1 \n",
    "    if len(word) == 0 and cnt > 0 :\n",
    "        result += 1\n",
    "result \n"
   ]
  }
 ],
 "metadata": {
  "kernelspec": {
   "display_name": "Python 3",
   "language": "python",
   "name": "python3"
  },
  "language_info": {
   "codemirror_mode": {
    "name": "ipython",
    "version": 3
   },
   "file_extension": ".py",
   "mimetype": "text/x-python",
   "name": "python",
   "nbconvert_exporter": "python",
   "pygments_lexer": "ipython3",
   "version": "3.11.1"
  },
  "orig_nbformat": 4
 },
 "nbformat": 4,
 "nbformat_minor": 2
}
