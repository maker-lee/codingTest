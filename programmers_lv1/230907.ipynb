{
 "cells": [
  {
   "cell_type": "markdown",
   "metadata": {},
   "source": [
    "### 신규 아이디 추천\n",
    "\n",
    "문제 설명\n",
    "카카오에 입사한 신입 개발자 네오는 \"카카오계정개발팀\"에 배치되어, 카카오 서비스에 가입하는 유저들의 아이디를 생성하는 업무를 담당하게 되었습니다. \"네오\"에게 주어진 첫 업무는 새로 가입하는 유저들이 카카오 아이디 규칙에 맞지 않는 아이디를 입력했을 때, 입력된 아이디와 유사하면서 규칙에 맞는 아이디를 추천해주는 프로그램을 개발하는 것입니다.\n",
    "다음은 카카오 아이디의 규칙입니다.\n",
    "\n",
    "아이디의 길이는 3자 이상 15자 이하여야 합니다.\n",
    "아이디는 알파벳 소문자, 숫자, 빼기(-), 밑줄(_), 마침표(.) 문자만 사용할 수 있습니다.\n",
    "단, 마침표(.)는 처음과 끝에 사용할 수 없으며 또한 연속으로 사용할 수 없습니다.\n",
    "\"네오\"는 다음과 같이 7단계의 순차적인 처리 과정을 통해 신규 유저가 입력한 아이디가 카카오 아이디 규칙에 맞는 지 검사하고 규칙에 맞지 않은 경우 규칙에 맞는 새로운 아이디를 추천해 주려고 합니다.\n",
    "신규 유저가 입력한 아이디가 new_id 라고 한다면,\n",
    "1단계 new_id의 모든 대문자를 대응되는 소문자로 치환합니다.\n",
    "2단계 new_id에서 알파벳 소문자, 숫자, 빼기(-), 밑줄(_), 마침표(.)를 제외한 모든 문자를 제거합니다.\n",
    "3단계 new_id에서 마침표(.)가 2번 이상 연속된 부분을 하나의 마침표(.)로 치환합니다.\n",
    "4단계 new_id에서 마침표(.)가 처음이나 끝에 위치한다면 제거합니다.\n",
    "5단계 new_id가 빈 문자열이라면, new_id에 \"a\"를 대입합니다.\n",
    "6단계 new_id의 길이가 16자 이상이면, new_id의 첫 15개의 문자를 제외한 나머지 문자들을 모두 제거합니다.\n",
    "     만약 제거 후 마침표(.)가 new_id의 끝에 위치한다면 끝에 위치한 마침표(.) 문자를 제거합니다.\n",
    "7단계 new_id의 길이가 2자 이하라면, new_id의 마지막 문자를 new_id의 길이가 3이 될 때까지 반복해서 끝에 붙입니다.\n",
    "\n",
    "예를 들어, new_id 값이 \"...!@BaT#*..y.abcdefghijklm\" 라면, 위 7단계를 거치고 나면 new_id는 아래와 같이 변경됩니다.\n",
    "\n",
    "1단계 대문자 'B'와 'T'가 소문자 'b'와 't'로 바뀌었습니다.\n",
    "\"...!@BaT#*..y.abcdefghijklm\" → \"...!@bat#*..y.abcdefghijklm\"\n",
    "\n",
    "2단계 '!', '@', '#', '*' 문자가 제거되었습니다.\n",
    "\"...!@bat#*..y.abcdefghijklm\" → \"...bat..y.abcdefghijklm\"\n",
    "\n",
    "3단계 '...'와 '..' 가 '.'로 바뀌었습니다.\n",
    "\"...bat..y.abcdefghijklm\" → \".bat.y.abcdefghijklm\"\n",
    "\n",
    "4단계 아이디의 처음에 위치한 '.'가 제거되었습니다.\n",
    "\".bat.y.abcdefghijklm\" → \"bat.y.abcdefghijklm\"\n",
    "\n",
    "5단계 아이디가 빈 문자열이 아니므로 변화가 없습니다.\n",
    "\"bat.y.abcdefghijklm\" → \"bat.y.abcdefghijklm\"\n",
    "\n",
    "6단계 아이디의 길이가 16자 이상이므로, 처음 15자를 제외한 나머지 문자들이 제거되었습니다.\n",
    "\"bat.y.abcdefghijklm\" → \"bat.y.abcdefghi\"\n",
    "\n",
    "7단계 아이디의 길이가 2자 이하가 아니므로 변화가 없습니다.\n",
    "\"bat.y.abcdefghi\" → \"bat.y.abcdefghi\"\n",
    "\n",
    "따라서 신규 유저가 입력한 new_id가 \"...!@BaT#*..y.abcdefghijklm\"일 때, 네오의 프로그램이 추천하는 새로운 아이디는 \"bat.y.abcdefghi\" 입니다.\n",
    "\n",
    "[문제]\n",
    "신규 유저가 입력한 아이디를 나타내는 new_id가 매개변수로 주어질 때, \"네오\"가 설계한 7단계의 처리 과정을 거친 후의 추천 아이디를 return 하도록 solution 함수를 완성해 주세요.\n",
    "\n",
    "[제한사항]\n",
    "new_id는 길이 1 이상 1,000 이하인 문자열입니다.\n",
    "new_id는 알파벳 대문자, 알파벳 소문자, 숫자, 특수문자로 구성되어 있습니다.\n",
    "new_id에 나타날 수 있는 특수문자는 -_.~!@#$%^&*()=+[{]}:?,<>/ 로 한정됩니다."
   ]
  },
  {
   "cell_type": "markdown",
   "metadata": {},
   "source": [
    "[입출력 예]\n",
    "no\tnew_id\tresult\n",
    "예1\t\"...!@BaT#*..y.abcdefghijklm\"\t\"bat.y.abcdefghi\"\n",
    "예2\t\"z-+.^.\"\t\"z--\"\n",
    "예3\t\"=.=\"\t\"aaa\"\n",
    "예4\t\"123_.def\"\t\"123_.def\"\n",
    "예5\t\"abcdefghijklmn.p\"\t\"abcdefghijklmn\""
   ]
  },
  {
   "cell_type": "code",
   "execution_count": 8,
   "metadata": {},
   "outputs": [
    {
     "data": {
      "text/plain": [
       "'aaa'"
      ]
     },
     "execution_count": 8,
     "metadata": {},
     "output_type": "execute_result"
    }
   ],
   "source": [
    "new_id = \"a....\"\n",
    "\n",
    "\n",
    "# 제외\n",
    "skip = ['-','.','_']\n",
    "아이디 = \"\"\n",
    "\n",
    "# 1단계 new_id의 모든 대문자를 대응되는 소문자로 치환합니다.\n",
    "아이디 = new_id.lower() \n",
    "\n",
    "# 2단계 new_id에서 알파벳 소문자, 숫자, 빼기(-), 밑줄(_), 마침표(.)를 제외한 모든 문자를 제거합니다.\n",
    "for i in 아이디 :  \n",
    "    if i.isalnum() or i in skip : \n",
    "        pass\n",
    "    else :\n",
    "        아이디 = 아이디.replace(i, '')\n",
    "\n",
    "# 3단계 new_id에서 마침표(.)가 2번 이상 연속된 부분을 하나의 마침표(.)로 치환합니다  \n",
    "while '..' in 아이디 :\n",
    "    아이디 = 아이디.replace('..', '.')\n",
    "\n",
    "# 4단계 new_id에서 마침표(.)가 처음이나 끝에 위치한다면 제거합니다.\n",
    "\n",
    "try :\n",
    "    if 아이디[0] == '.' :\n",
    "        아이디 = 아이디[1:]\n",
    "    if 아이디[-1] == '.' :\n",
    "        아이디 = 아이디[:-1]\n",
    "except :\n",
    "    pass\n",
    "\n",
    "\n",
    "# 5단계 new_id가 빈 문자열이라면, new_id에 \"a\"를 대입합니다.\n",
    "if len(아이디) == 0 :\n",
    "    아이디 = \"a\"\n",
    "\n",
    "# 6단계 new_id의 길이가 16자 이상이면, new_id의 첫 15개의 문자를 제외한 나머지 문자들을 모두 제거합니다.\n",
    "#      만약 제거 후 마침표(.)가 new_id의 끝에 위치한다면 끝에 위치한 마침표(.) 문자를 제거합니다.\n",
    "\n",
    "if len(아이디) > 15 :\n",
    "    아이디 = 아이디[:15]\n",
    "    if 아이디[-1] == '.' :\n",
    "        아이디 = 아이디[:-1]\n",
    "\n",
    "\n",
    "# 7단계 new_id의 길이가 2자 이하라면, new_id의 마지막 문자를 new_id의 길이가 3이 될 때까지 반복해서 끝에 붙입니다.\n",
    "if len(아이디) <= 2 :\n",
    "    while len(아이디) != 3 : \n",
    "        아이디 += 아이디[-1]\n",
    "\n",
    "\n",
    "아이디"
   ]
  },
  {
   "cell_type": "code",
   "execution_count": 9,
   "metadata": {},
   "outputs": [
    {
     "data": {
      "text/plain": [
       "'aaa'"
      ]
     },
     "execution_count": 9,
     "metadata": {},
     "output_type": "execute_result"
    }
   ],
   "source": [
    "#new_id = \"...!@BaT#*..y.abcdefghijklm\"\n",
    "# 제외\n",
    "skip = ['-','.','_']\n",
    "아이디 = \"\"\n",
    "\n",
    "# 1단계 new_id의 모든 대문자를 대응되는 소문자로 치환합니다.\n",
    "아이디 = new_id.lower() \n",
    "\n",
    "# 2단계 new_id에서 알파벳 소문자, 숫자, 빼기(-), 밑줄(_), 마침표(.)를 제외한 모든 문자를 제거합니다.\n",
    "for i in 아이디 :  \n",
    "    if i.isalnum() or i in skip : \n",
    "        pass\n",
    "    else :\n",
    "        아이디 = 아이디.replace(i, '')\n",
    "\n",
    "# 3단계 new_id에서 마침표(.)가 2번 이상 연속된 부분을 하나의 마침표(.)로 치환합니다  \n",
    "while '..' in 아이디 :\n",
    "    아이디 = 아이디.replace('..', '.')\n",
    "\n",
    "\n",
    "# 4단계 new_id에서 마침표(.)가 처음이나 끝에 위치한다면 제거합니다.\n",
    "try :\n",
    "    if 아이디[0] == '.' :\n",
    "        아이디 = 아이디[1:] \n",
    "    if 아이디[-1] == '.' :\n",
    "        아이디 = 아이디[:-1]\n",
    "except :\n",
    "    pass\n",
    "\n",
    "\n",
    "# 5단계 new_id가 빈 문자열이라면, new_id에 \"a\"를 대입합니다.\n",
    "if len(아이디) == 0 :\n",
    "    아이디 = \"a\"\n",
    "\n",
    "\n",
    "# 6단계 new_id의 길이가 16자 이상이면, new_id의 첫 15개의 문자를 제외한 나머지 문자들을 모두 제거합니다.\n",
    "#      만약 제거 후 마침표(.)가 new_id의 끝에 위치한다면 끝에 위치한 마침표(.) 문자를 제거합니다.\n",
    "if len(아이디) > 15 :\n",
    "    아이디 = 아이디[:15]\n",
    "    if 아이디[-1] == '.' :\n",
    "        아이디 = 아이디[:-1]\n",
    "\n",
    "\n",
    "# 7단계 new_id의 길이가 2자 이하라면, new_id의 마지막 문자를 new_id의 길이가 3이 될 때까지 반복해서 끝에 붙입니다.\n",
    "while len(아이디) < 3:\n",
    "    아이디 += 아이디[-1]\n",
    "\n",
    "아이디"
   ]
  },
  {
   "cell_type": "markdown",
   "metadata": {},
   "source": [
    "### 햄버거 만들기\n",
    "\n",
    "문제 설명\n",
    "햄버거 가게에서 일을 하는 상수는 햄버거를 포장하는 일을 합니다. 함께 일을 하는 다른 직원들이 햄버거에 들어갈 재료를 조리해 주면 조리된 순서대로 상수의 앞에 아래서부터 위로 쌓이게 되고, 상수는 순서에 맞게 쌓여서 완성된 햄버거를 따로 옮겨 포장을 하게 됩니다. 상수가 일하는 가게는 정해진 순서(아래서부터, 빵 – 야채 – 고기 - 빵)로 쌓인 햄버거만 포장을 합니다. 상수는 손이 굉장히 빠르기 때문에 상수가 포장하는 동안 속 재료가 추가적으로 들어오는 일은 없으며, 재료의 높이는 무시하여 재료가 높이 쌓여서 일이 힘들어지는 경우는 없습니다.\n",
    "\n",
    "예를 들어, 상수의 앞에 쌓이는 재료의 순서가 [야채, 빵, 빵, 야채, 고기, 빵, 야채, 고기, 빵]일 때, 상수는 여섯 번째 재료가 쌓였을 때, 세 번째 재료부터 여섯 번째 재료를 이용하여 햄버거를 포장하고, 아홉 번째 재료가 쌓였을 때, 두 번째 재료와 일곱 번째 재료부터 아홉 번째 재료를 이용하여 햄버거를 포장합니다. 즉, 2개의 햄버거를 포장하게 됩니다.\n",
    "\n",
    "상수에게 전해지는 재료의 정보를 나타내는 정수 배열 ingredient가 주어졌을 때, 상수가 포장하는 햄버거의 개수를 return 하도록 solution 함수를 완성하시오.\n",
    "\n",
    "제한사항\n",
    "1 ≤ ingredient의 길이 ≤ 1,000,000\n",
    "ingredient의 원소는 1, 2, 3 중 하나의 값이며, 순서대로 빵, 야채, 고기를 의미합니다.\n",
    "입출력 예\n",
    "ingredient\tresult\n",
    "[2, 1, 1, 2, 3, 1, 2, 3, 1]\t2\n",
    "[1, 3, 2, 1, 2, 1, 3, 1, 2]\t0\n",
    "입출력 예 설명\n",
    "입출력 예 #1\n",
    "\n",
    "문제 예시와 같습니다.\n",
    "입출력 예 #2\n",
    "\n",
    "상수가 포장할 수 있는 햄버거가 없습니다."
   ]
  },
  {
   "cell_type": "code",
   "execution_count": 39,
   "metadata": {},
   "outputs": [
    {
     "name": "stdout",
     "output_type": "stream",
     "text": [
      "[1, 1, 2, 3, 1, 2, 3, 1]\n",
      "[1, 1, 2, 3]\n"
     ]
    },
    {
     "data": {
      "text/plain": [
       "2"
      ]
     },
     "execution_count": 39,
     "metadata": {},
     "output_type": "execute_result"
    }
   ],
   "source": [
    "ingredient = [1, 1, 2, 1, 2, 3, 1, 3, 1, 2, 3, 1]\n",
    "햄버거 = [1,2,3,1]\n",
    "\n",
    "a = 0\n",
    "cnt = 0\n",
    "\n",
    "# 시간초과 \n",
    "while a+4 <= len(ingredient) :\n",
    "    if ingredient[a:a+4] == 햄버거 :\n",
    "        cnt += 1\n",
    "        del ingredient[a:a+4]\n",
    "        print(ingredient)\n",
    "        a = 햄버거[a-2]\n",
    "    else :\n",
    "        a += 1\n",
    "cnt\n"
   ]
  },
  {
   "cell_type": "code",
   "execution_count": 11,
   "metadata": {},
   "outputs": [
    {
     "data": {
      "text/plain": [
       "3"
      ]
     },
     "execution_count": 11,
     "metadata": {},
     "output_type": "execute_result"
    }
   ],
   "source": [
    "ingredient = [1, 1, 2, 1, 2, 3, 1, 3, 1, 2, 3, 1]\n",
    "burger = []\n",
    "cnt = 0\n",
    "햄버거 = [1,2,3,1]\n",
    "\n",
    "# 시간 안 초과 \n",
    "for i in ingredient :\n",
    "    burger.append(i) \n",
    "    if burger[-4:] == 햄버거 :\n",
    "        cnt += 1\n",
    "        del burger[-4:]\n",
    "        continue\n",
    "\n",
    "cnt "
   ]
  },
  {
   "cell_type": "markdown",
   "metadata": {},
   "source": [
    "### 성격 유형 검사하기\n",
    "\n",
    "문제 설명\n",
    "나만의 카카오 성격 유형 검사지를 만들려고 합니다.\n",
    "성격 유형 검사는 다음과 같은 4개 지표로 성격 유형을 구분합니다. 성격은 각 지표에서 두 유형 중 하나로 결정됩니다.\n",
    "\n",
    "지표 번호\t성격 유형\n",
    "1번 지표\t라이언형(R), 튜브형(T)\n",
    "2번 지표\t콘형(C), 프로도형(F)\n",
    "3번 지표\t제이지형(J), 무지형(M)\n",
    "4번 지표\t어피치형(A), 네오형(N)\n",
    "4개의 지표가 있으므로 성격 유형은 총 16(=2 x 2 x 2 x 2)가지가 나올 수 있습니다. 예를 들어, \"RFMN\"이나 \"TCMA\"와 같은 성격 유형이 있습니다.\n",
    "\n",
    "검사지에는 총 n개의 질문이 있고, 각 질문에는 아래와 같은 7개의 선택지가 있습니다.\n",
    "\n",
    "매우 비동의\n",
    "비동의\n",
    "약간 비동의\n",
    "모르겠음\n",
    "약간 동의\n",
    "동의\n",
    "매우 동의\n",
    "각 질문은 1가지 지표로 성격 유형 점수를 판단합니다.\n",
    "\n",
    "예를 들어, 어떤 한 질문에서 4번 지표로 아래 표처럼 점수를 매길 수 있습니다.\n",
    "\n",
    "선택지\t성격 유형 점수\n",
    "매우 비동의\t네오형 3점\n",
    "비동의\t네오형 2점\n",
    "약간 비동의\t네오형 1점\n",
    "\n",
    "모르겠음\t어떤 성격 유형도 점수를 얻지 않습니다\n",
    "\n",
    "약간 동의\t어피치형 1점\n",
    "동의\t어피치형 2점\n",
    "매우 동의\t어피치형 3점\n",
    "\n",
    "\n",
    "이때 검사자가 질문에서 약간 동의 선택지를 선택할 경우 어피치형(A) 성격 유형 1점을 받게 됩니다. 만약 검사자가 매우 비동의 선택지를 선택할 경우 네오형(N) 성격 유형 3점을 받게 됩니다.\n",
    "\n",
    "위 예시처럼 네오형이 비동의, 어피치형이 동의인 경우만 주어지지 않고, 질문에 따라 네오형이 동의, 어피치형이 비동의인 경우도 주어질 수 있습니다.\n",
    "하지만 각 선택지는 고정적인 크기의 점수를 가지고 있습니다.\n",
    "\n",
    "매우 동의나 매우 비동의 선택지를 선택하면 3점을 얻습니다.\n",
    "동의나 비동의 선택지를 선택하면 2점을 얻습니다.\n",
    "약간 동의나 약간 비동의 선택지를 선택하면 1점을 얻습니다.\n",
    "모르겠음 선택지를 선택하면 점수를 얻지 않습니다.\n",
    "\n",
    "검사 결과는 모든 질문의 성격 유형 점수를 더하여 각 지표에서 더 높은 점수를 받은 성격 유형이 검사자의 성격 유형이라고 판단합니다. 단, 하나의 지표에서 각 성격 유형 점수가 같으면, 두 성격 유형 중 사전 순으로 빠른 성격 유형을 검사자의 성격 유형이라고 판단합니다.\n",
    "\n",
    "질문마다 판단하는 지표를 담은 1차원 문자열 배열 survey와 검사자가 각 질문마다 선택한 선택지를 담은 1차원 정수 배열 choices가 매개변수로 주어집니다. 이때, 검사자의 성격 유형 검사 결과를 지표 번호 순서대로 return 하도록 solution 함수를 완성해주세요.\n",
    "\n",
    "제한사항\n",
    "1 ≤ survey의 길이 ( = n) ≤ 1,000\n",
    "survey의 원소는 \"RT\", \"TR\", \"FC\", \"CF\", \"MJ\", \"JM\", \"AN\", \"NA\" 중 하나입니다.\n",
    "survey[i]의 첫 번째 캐릭터는 i+1번 질문의 비동의 관련 선택지를 선택하면 받는 성격 유형을 의미합니다.\n",
    "survey[i]의 두 번째 캐릭터는 i+1번 질문의 동의 관련 선택지를 선택하면 받는 성격 유형을 의미합니다.\n",
    "choices의 길이 = survey의 길이\n",
    "\n",
    "choices[i]는 검사자가 선택한 i+1번째 질문의 선택지를 의미합니다.\n",
    "1 ≤ choices의 원소 ≤ 7\n",
    "choices\t뜻\n",
    "1\t매우 비동의 3 \n",
    "2\t비동의2 \n",
    "3\t약간 비동의1 \n",
    "4\t모르겠음\n",
    "5\t약간 동의 1\n",
    "6\t동의 2\n",
    "7\t매우 동의 3"
   ]
  },
  {
   "cell_type": "markdown",
   "metadata": {},
   "source": [
    "입출력 예\n",
    "survey\tchoices\tresult\n",
    "[\"AN\", \"CF\", \"MJ\", \"RT\", \"NA\"]\t[5, 3, 2, 7, 5]\t\"TCMA\"\n",
    "[\"TR\", \"RT\", \"TR\"]\t[7, 1, 3]\t\"RCJA\""
   ]
  },
  {
   "cell_type": "code",
   "execution_count": 15,
   "metadata": {},
   "outputs": [],
   "source": [
    "survey = [\"AN\", \"CF\", \"MJ\", \"RT\", \"NA\"]\n",
    "choices = [5, 3, 2, 7, 5]\n",
    "result = \"TCMA\""
   ]
  },
  {
   "cell_type": "code",
   "execution_count": 22,
   "metadata": {},
   "outputs": [
    {
     "data": {
      "text/plain": [
       "3"
      ]
     },
     "execution_count": 22,
     "metadata": {},
     "output_type": "execute_result"
    }
   ],
   "source": [
    "# 두 성격 유형 중 사전 순으로 빠른 성격 유형을 검사자의 성격 유형이라고 판단합니다."
   ]
  },
  {
   "cell_type": "code",
   "execution_count": 36,
   "metadata": {},
   "outputs": [
    {
     "name": "stdout",
     "output_type": "stream",
     "text": [
      "{'A': 2, 'N': 2, 'C': 1, 'F': 0, 'M': 1, 'J': 0, 'R': 0, 'T': 3}\n"
     ]
    }
   ],
   "source": [
    "survey = [\"AN\", \"CF\", \"MJ\", \"RT\", \"NA\"]\n",
    "survey_count = {}\n",
    "\n",
    "# 알파벳별로 딕셔너리 만들기 \n",
    "for i in survey :\n",
    "    survey_count[i[0]] = 0\n",
    "    survey_count[i[1]] = 0\n",
    "\n",
    "# 점수 더하기 \n",
    "for i in range(len(choices)) :\n",
    "    if choices[i] < 4 : # 앞자리\n",
    "        survey_count[survey[i][0]] += choices[i] // 2 \n",
    "    elif choices[i] > 4 : # 뒷자리\n",
    "        survey_count[survey[i][1]] += choices[i] // 2 \n",
    "print(survey_count)\n",
    "\n",
    "# 딕셔너리 높은 순서대로 정리\n",
    "\n",
    "# 같은 수라면 알파벳순으로 정리\n",
    "\n",
    "# 출력\n"
   ]
  }
 ],
 "metadata": {
  "kernelspec": {
   "display_name": "Python 3",
   "language": "python",
   "name": "python3"
  },
  "language_info": {
   "codemirror_mode": {
    "name": "ipython",
    "version": 3
   },
   "file_extension": ".py",
   "mimetype": "text/x-python",
   "name": "python",
   "nbconvert_exporter": "python",
   "pygments_lexer": "ipython3",
   "version": "3.9.12"
  },
  "orig_nbformat": 4
 },
 "nbformat": 4,
 "nbformat_minor": 2
}
