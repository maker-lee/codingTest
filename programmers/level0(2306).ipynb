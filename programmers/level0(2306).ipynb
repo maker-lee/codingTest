{
 "cells": [
  {
   "attachments": {},
   "cell_type": "markdown",
   "metadata": {},
   "source": [
    "#### programmers coding test level0  "
   ]
  },
  {
   "attachments": {},
   "cell_type": "markdown",
   "metadata": {},
   "source": [
    "#### 다음에 올 숫자\n",
    "등차수열 혹은 등비수열 common이 매개변수로 주어질 때, 마지막 원소 다음으로 올 숫자를 return 하도록 solution 함수를 완성해보세요."
   ]
  },
  {
   "cell_type": "code",
   "execution_count": 1,
   "metadata": {},
   "outputs": [
    {
     "name": "stdout",
     "output_type": "stream",
     "text": [
      "5\n"
     ]
    }
   ],
   "source": [
    "common = [1, 2, 3, 4]\n",
    "result = 5\n",
    "\n",
    "# 나의 문제 풀이 \n",
    "def solution(common):\n",
    "    if common[-1] - common[-2] == common[-2] - common[-3] :\n",
    "        answer = common[-1] + common[-1]-common[-2]\n",
    "    else :\n",
    "        answer = common[-1]*(common[-1] // common[-2])\n",
    "    return answer\n",
    "\n",
    "print(solution(common))\n",
    "\n",
    "# 수정한 풀이 \n",
    "def solution(common):\n",
    "    answer = 0\n",
    "    a,b,c = common[:3]\n",
    "    if (b-a) == (c-b):\n",
    "        return common[-1]+(b-a)\n",
    "    else:\n",
    "        return common[-1] * (b//a)\n",
    "    return answer\n",
    "print(solution(common))"
   ]
  },
  {
   "attachments": {},
   "cell_type": "markdown",
   "metadata": {},
   "source": [
    "#### 분수의 덧셈\n",
    "첫 번째 분수의 분자와 분모를 뜻하는 numer1, denom1, 두 번째 분수의 분자와 분모를 뜻하는 numer2, denom2가 매개변수로 주어집니다. 두 분수를 더한 값을 기약 분수로 나타냈을 때 분자와 분모를 순서대로 담은 배열을 return 하도록 solution 함수를 완성해보세요."
   ]
  },
  {
   "cell_type": "code",
   "execution_count": 4,
   "metadata": {},
   "outputs": [
    {
     "ename": "NameError",
     "evalue": "name 'num1' is not defined",
     "output_type": "error",
     "traceback": [
      "\u001b[1;31m---------------------------------------------------------------------------\u001b[0m",
      "\u001b[1;31mNameError\u001b[0m                                 Traceback (most recent call last)",
      "Cell \u001b[1;32mIn[4], line 17\u001b[0m\n\u001b[0;32m     15\u001b[0m             gcd \u001b[39m=\u001b[39m i  \n\u001b[0;32m     16\u001b[0m     \u001b[39mreturn\u001b[39;00m (num1\u001b[39m/\u001b[39mgcd,num2\u001b[39m/\u001b[39mgcd)\n\u001b[1;32m---> 17\u001b[0m \u001b[39mprint\u001b[39m((num1\u001b[39m/\u001b[39mgcd,num2\u001b[39m/\u001b[39mgcd))\n\u001b[0;32m     19\u001b[0m \u001b[39m# 다른 사람의 풀이 \u001b[39;00m\n\u001b[0;32m     20\u001b[0m \u001b[39mfrom\u001b[39;00m \u001b[39mfractions\u001b[39;00m \u001b[39mimport\u001b[39;00m Fraction\n",
      "\u001b[1;31mNameError\u001b[0m: name 'num1' is not defined"
     ]
    }
   ],
   "source": [
    "numer1 = 1\n",
    "denom1 = 2\n",
    "numer2 = 3\n",
    "denom2 = 4\n",
    "result = [5,4]\n",
    "# 1 / 2 + 3 / 4 = 5 / 4입니다. 따라서 [5, 4]를 return 합니다.\n",
    "\n",
    "# 나의 풀이 \n",
    "def solution(numer1, denom1, numer2, denom2):\n",
    "    num1 = (numer1*denom2) + (numer2*denom1)\n",
    "    num2 = denom1*denom2\n",
    "    \n",
    "    for i in range(1,num2+1) :\n",
    "        if (num1 % i == 0) and (num2 % i == 0) :\n",
    "            gcd = i  \n",
    "    return (num1/gcd,num2/gcd)\n",
    "print((num1/gcd,num2/gcd))\n",
    "\n",
    "\n",
    "# 수정한 풀이 \n",
    "from fractions import Fraction\n",
    "\n",
    "def solution(denum1, num1, denum2, num2):\n",
    "    answer = Fraction(denum1, num1) + Fraction(denum2, num2)\n",
    "    return [answer.numerator, answer.denominator]"
   ]
  },
  {
   "attachments": {},
   "cell_type": "markdown",
   "metadata": {},
   "source": [
    "#### 최빈값 구하기\n",
    "최빈값은 주어진 값 중에서 가장 자주 나오는 값을 의미합니다. 정수 배열 array가 매개변수로 주어질 때, 최빈값을 return 하도록 solution 함수를 완성해보세요. 최빈값이 여러 개면 -1을 return 합니다."
   ]
  },
  {
   "cell_type": "code",
   "execution_count": null,
   "metadata": {},
   "outputs": [],
   "source": [
    "array = [1, 2, 3, 3, 3, 4]\t\n",
    "result = 3\n",
    "# [1, 2, 3, 3, 3, 4]에서 1은 1개 2는 1개 3은 3개 4는 1개로 최빈값은 3입니다.\n",
    "\n",
    "\n",
    "# 나의 풀이 \n",
    "def solution(array):\n",
    "    p1 = {}\n",
    "    for key in array :\n",
    "        p1[key] = p1.get(key,0) + 1 \n",
    "        \n",
    "    listA = list(p1.values())\n",
    "    listA_num = len(list(p1.values()))\n",
    "    maxA =  max(listA)    \n",
    "    \n",
    "    for i in range(0,listA_num) :\n",
    "        try :\n",
    "            listA.remove(maxA)\n",
    "        except :\n",
    "            pass\n",
    "    if listA_num - len(listA) > 1 :\n",
    "        return -1\n",
    "    \n",
    "\n",
    "    a = []\n",
    "    b = []\n",
    "    for k, v in p1.items() :\n",
    "        a.append(k)\n",
    "        b.append(v)\n",
    "    c = max(b)\n",
    "    \n",
    "    return a[b.index(c)]\n",
    "\n",
    "# 수정한 풀이 \n",
    "def solution(array):\n",
    "    while len(array) != 0:\n",
    "        for i, a in enumerate(set(array)):\n",
    "            array.remove(a)\n",
    "        if i == 0: return a\n",
    "    return -1"
   ]
  },
  {
   "attachments": {},
   "cell_type": "markdown",
   "metadata": {},
   "source": [
    "출처: 프로그래머스 코딩 테스트 연습, https://school.programmers.co.kr/learn/challenges"
   ]
  }
 ],
 "metadata": {
  "kernelspec": {
   "display_name": "Python 3",
   "language": "python",
   "name": "python3"
  },
  "language_info": {
   "codemirror_mode": {
    "name": "ipython",
    "version": 3
   },
   "file_extension": ".py",
   "mimetype": "text/x-python",
   "name": "python",
   "nbconvert_exporter": "python",
   "pygments_lexer": "ipython3",
   "version": "3.11.1"
  },
  "orig_nbformat": 4
 },
 "nbformat": 4,
 "nbformat_minor": 2
}
