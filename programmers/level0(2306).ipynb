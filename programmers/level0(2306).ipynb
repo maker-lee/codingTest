{
 "cells": [
  {
   "attachments": {},
   "cell_type": "markdown",
   "metadata": {},
   "source": [
    "#### programmers coding test level0  "
   ]
  },
  {
   "attachments": {},
   "cell_type": "markdown",
   "metadata": {},
   "source": [
    "#### 다음에 올 숫자\n",
    "등차수열 혹은 등비수열 common이 매개변수로 주어질 때, 마지막 원소 다음으로 올 숫자를 return 하도록 solution 함수를 완성해보세요."
   ]
  },
  {
   "cell_type": "code",
   "execution_count": 3,
   "metadata": {},
   "outputs": [
    {
     "name": "stdout",
     "output_type": "stream",
     "text": [
      "5\n",
      "1 2 3\n",
      "5\n",
      "[1, 2, 3]\n"
     ]
    }
   ],
   "source": [
    "common = [1, 2, 3, 4]\n",
    "result = 5\n",
    "\n",
    "# 나의 문제 풀이 \n",
    "def solution(common):\n",
    "    if common[-1] - common[-2] == common[-2] - common[-3] :\n",
    "        answer = common[-1] + common[-1]-common[-2]\n",
    "    else :\n",
    "        answer = common[-1]*(common[-1] // common[-2])\n",
    "    return answer\n",
    "print(solution(common))\n",
    "\n",
    "\n",
    "\n",
    "# 수정한 풀이 \n",
    "def solution(common): # 수열이 주어진다\n",
    "    answer = 0 \n",
    "    a,b,c = common[:3] # [1, 2, 3] -> 1,2,3 \n",
    "    if (b-a) == (c-b): # 등차 아니면 등비수열이므로, 2-1이나 4,3이 같다면 등차수열 \n",
    "        return common[-1]+(b-a) # 그래서 리턴 값은 맨 뒤의 요소 + 차이\n",
    "    else:\n",
    "        return common[-1] * (b//a) # 그렇지 않으면 등비수열이므로 맨뒤의 요소 곱하기 몫을 한다. \n",
    "    return answer\n",
    "print(solution(common))\n",
    "\n"
   ]
  },
  {
   "attachments": {},
   "cell_type": "markdown",
   "metadata": {},
   "source": [
    "#### 분수의 덧셈\n",
    "첫 번째 분수의 분자와 분모를 뜻하는 numer1, denom1, 두 번째 분수의 분자와 분모를 뜻하는 numer2, denom2가 매개변수로 주어집니다. 두 분수를 더한 값을 기약 분수로 나타냈을 때 분자와 분모를 순서대로 담은 배열을 return 하도록 solution 함수를 완성해보세요."
   ]
  },
  {
   "cell_type": "code",
   "execution_count": 14,
   "metadata": {},
   "outputs": [
    {
     "name": "stdout",
     "output_type": "stream",
     "text": [
      "(5, 4)\n"
     ]
    }
   ],
   "source": [
    "numer1 = 1\n",
    "denom1 = 2\n",
    "numer2 = 3\n",
    "denom2 = 4\n",
    "result = [5,4]\n",
    "# 1 / 2 + 3 / 4 = 5 / 4입니다. 따라서 [5, 4]를 return 합니다.\n",
    "\n",
    "# 나의 풀이 \n",
    "def solution(numer1, denom1, numer2, denom2):\n",
    "    num1 = (numer1*denom2) + (numer2*denom1)\n",
    "    num2 = denom1*denom2    \n",
    "    for i in range(1,num2+1) :\n",
    "        if (num1 % i == 0) and (num2 % i == 0) :\n",
    "            gcd = i  \n",
    "    return (int(num1/gcd),int(num2/gcd))\n",
    "\n",
    "print(solution(numer1,denom1, numer2,denom2))\n",
    "\n",
    "\n",
    "\n",
    "# 수정한 풀이 \n",
    "from fractions import Fraction\n",
    "\n",
    "def solution(denum1, num1, denum2, num2): \n",
    "    answer = Fraction(denum1, num1) + Fraction(denum2, num2) #분자/분모 + 분자+분모\n",
    "    return [answer.numerator, answer.denominator] #분자, 분모 "
   ]
  },
  {
   "cell_type": "code",
   "execution_count": 17,
   "metadata": {},
   "outputs": [
    {
     "name": "stdout",
     "output_type": "stream",
     "text": [
      "1/5\n",
      "1/5\n"
     ]
    }
   ],
   "source": [
    "from fractions import Fraction # 파이썬에서 유리수 연산 시 사용함 \n",
    "a = Fraction(1,5)\n",
    "print(a)\n",
    "from fractions import Fraction \n",
    "b = Fraction('1/5') # 문자열로도 동일 \n",
    "print(b)\n"
   ]
  },
  {
   "cell_type": "code",
   "execution_count": 21,
   "metadata": {},
   "outputs": [
    {
     "name": "stdout",
     "output_type": "stream",
     "text": [
      "1 분자\n",
      "5 분모\n"
     ]
    }
   ],
   "source": [
    "print(a.numerator, '분자')\n",
    "print(a.denominator,'분모')\n"
   ]
  },
  {
   "cell_type": "code",
   "execution_count": 25,
   "metadata": {},
   "outputs": [
    {
     "name": "stdout",
     "output_type": "stream",
     "text": [
      "3/5\n",
      "0.6\n"
     ]
    }
   ],
   "source": [
    "result = Fraction(1, 5)+Fraction(2, 5)\n",
    "print(result) # Fraction(3, 5) # 물론 다음처럼 결괏값을 실수로 바꿀 수도 있다.\n",
    "print(float(result))"
   ]
  },
  {
   "attachments": {},
   "cell_type": "markdown",
   "metadata": {},
   "source": [
    "#### 최빈값 구하기\n",
    "최빈값은 주어진 값 중에서 가장 자주 나오는 값을 의미합니다. 정수 배열 array가 매개변수로 주어질 때, 최빈값을 return 하도록 solution 함수를 완성해보세요. 최빈값이 여러 개면 -1을 return 합니다."
   ]
  },
  {
   "cell_type": "code",
   "execution_count": null,
   "metadata": {},
   "outputs": [],
   "source": [
    "array = [1, 2, 3, 3, 3, 4]\t\n",
    "result = 3\n",
    "# [1, 2, 3, 3, 3, 4]에서 1은 1개 2는 1개 3은 3개 4는 1개로 최빈값은 3입니다.\n",
    "\n",
    "\n",
    "# 나의 풀이 \n",
    "def solution(array):\n",
    "    p1 = {}\n",
    "    for key in array :\n",
    "        p1[key] = p1.get(key,0) + 1 \n",
    "        \n",
    "    listA = list(p1.values())\n",
    "    listA_num = len(list(p1.values()))\n",
    "    maxA =  max(listA)    \n",
    "    \n",
    "    for i in range(0,listA_num) :\n",
    "        try :\n",
    "            listA.remove(maxA)\n",
    "        except :\n",
    "            pass\n",
    "    if listA_num - len(listA) > 1 :\n",
    "        return -1\n",
    "    \n",
    "\n",
    "    a = []\n",
    "    b = []\n",
    "    for k, v in p1.items() :\n",
    "        a.append(k)\n",
    "        b.append(v)\n",
    "    c = max(b)\n",
    "    \n",
    "    return a[b.index(c)]\n",
    "\n",
    "# 수정한 풀이 \n",
    "def solution(array):\n",
    "    i = 0\n",
    "    while len(array) != 0: # 리스트에 값이 있으면 뺑뺑 \n",
    "        for i, a in enumerate(set(array)): # 리스트에서 중복을 제거하고 인덱스와 리스트숫자로 나눈다. \n",
    "            array.remove(a) # 리스트 숫자를 하나씩 지운다. \n",
    "        if i == 0: return a # 만약 인덱스가 0이 되면 a를 리턴한다 -> 가장 많이 지워진 숫자니까 .\n",
    "    return -1 # 선착순 아님??? \n",
    "\n",
    "# set을 이용하여 배열의 모든 원소를 한 개씩 모두 소거해 나가면서 최종적으로 값의 종류가 1개가 남을 경우(최빈값) i=0이므로 해당 값을 반환하고,\n",
    "# 값의 종류가 두 개 이상이 남을 경우 i가 1이상이 되므로 -1을 반환합니다. [3, 3, 3, 1, 2]일때 한 번 반복을 돌면 \n",
    "# 원소의 종류[1, 2, 3]을 한 번씩 제거하고 [3, 3]이 됩니다. set([3, 3])은 (3)이 되므로 그럼 i는 0에서 끝납니다."
   ]
  },
  {
   "cell_type": "code",
   "execution_count": 32,
   "metadata": {},
   "outputs": [
    {
     "name": "stdout",
     "output_type": "stream",
     "text": [
      "1\n",
      "2\n",
      "3\n",
      "4\n",
      "3\n",
      "3\n",
      "3\n",
      "3\n"
     ]
    }
   ],
   "source": [
    "array = [1, 2, 3, 3, 3, 4]\t\n",
    "\n",
    "i = 0\n",
    "while len(array) != 0: # 리스트에 값이 있으면 뺑뺑 \n",
    "    for i, a in enumerate(set(array)): \n",
    "        print(a)\n",
    "        array.remove(a)\n",
    "    if i == 0: \n",
    "        print(a)\n"
   ]
  },
  {
   "cell_type": "code",
   "execution_count": 26,
   "metadata": {},
   "outputs": [
    {
     "name": "stdout",
     "output_type": "stream",
     "text": [
      "0 10\n",
      "1 11\n",
      "2 12\n",
      "3 13\n"
     ]
    }
   ],
   "source": [
    "# enumerate 리스트의 원소에 순서값을 부여해주는 함수\n",
    "list1 = [10,11,12,13]\n",
    "for i, a in enumerate(list1):\n",
    "    print(i,a)"
   ]
  },
  {
   "attachments": {},
   "cell_type": "markdown",
   "metadata": {},
   "source": [
    "구슬을 나누는 경우의 수 \n",
    "머쓱이는 구슬을 친구들에게 나누어주려고 합니다. 구슬은 모두 다르게 생겼습니다. 머쓱이가 갖고 있는 구슬의 개수 balls와 친구들에게 나누어 줄 구슬 개수 share이 매개변수로 주어질 때, balls개의 구슬 중 share개의 구슬을 고르는 가능한 모든 경우의 수를 return 하는 solution 함수를 완성해주세요."
   ]
  },
  {
   "cell_type": "code",
   "execution_count": null,
   "metadata": {},
   "outputs": [],
   "source": [
    "balls = 3\n",
    "share = 2\n",
    "\n",
    "import math\n",
    "result = math.comb(balls, share) # result 3 "
   ]
  },
  {
   "attachments": {},
   "cell_type": "markdown",
   "metadata": {},
   "source": [
    "잘라서 배열로 저장하기\n",
    "\n",
    "문자열 my_str과 n이 매개변수로 주어질 때, my_str을 길이 n씩 잘라서 저장한 배열을 return하도록 solution 함수를 완성해주세요."
   ]
  },
  {
   "cell_type": "code",
   "execution_count": null,
   "metadata": {},
   "outputs": [],
   "source": [
    "def solution(my_str, n):\n",
    "    answer = [my_str[i:i+n] for i in range(0,len(my_str),n)]\n",
    "    return answer"
   ]
  },
  {
   "attachments": {},
   "cell_type": "markdown",
   "metadata": {},
   "source": [
    "머쓱이는 행운의 숫자 7을 가장 좋아합니다. 정수 배열 array가 매개변수로 주어질 때, 7이 총 몇 개 있는지 return 하도록 solution 함수를 완성해보세요."
   ]
  },
  {
   "cell_type": "code",
   "execution_count": null,
   "metadata": {},
   "outputs": [],
   "source": [
    "array = [7,77,71]\n",
    "def solution(array):\n",
    "    return (str(array).count('7')) # result = 4"
   ]
  },
  {
   "cell_type": "code",
   "execution_count": 18,
   "metadata": {},
   "outputs": [
    {
     "name": "stdout",
     "output_type": "stream",
     "text": [
      "zero\n",
      "one\n",
      "four\n",
      "six\n",
      "seven\n",
      "01467\n"
     ]
    }
   ],
   "source": [
    "numbers =\"onefourzerosixseven\"\n",
    "answer = ''\n",
    "eng =  [\"zero\", \"one\", \"two\", \"three\", \"four\", \"five\", \"six\", \"seven\", \"eight\", \"nine\" ]\n",
    "for i in eng :\n",
    "    if i in numbers :\n",
    "        print(i)\n",
    "        answer += str(eng.index(i)) \n",
    "print(answer)\n"
   ]
  },
  {
   "attachments": {},
   "cell_type": "markdown",
   "metadata": {},
   "source": [
    "출처: 프로그래머스 코딩 테스트 연습, https://school.programmers.co.kr/learn/challenges"
   ]
  }
 ],
 "metadata": {
  "kernelspec": {
   "display_name": "Python 3",
   "language": "python",
   "name": "python3"
  },
  "language_info": {
   "codemirror_mode": {
    "name": "ipython",
    "version": 3
   },
   "file_extension": ".py",
   "mimetype": "text/x-python",
   "name": "python",
   "nbconvert_exporter": "python",
   "pygments_lexer": "ipython3",
   "version": "3.11.1"
  },
  "orig_nbformat": 4
 },
 "nbformat": 4,
 "nbformat_minor": 2
}
