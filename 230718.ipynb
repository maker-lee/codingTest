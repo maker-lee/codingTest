{
 "cells": [
  {
   "cell_type": "markdown",
   "metadata": {},
   "source": [
    "### 2016년 \n",
    "\n",
    "2016년 1월 1일은 금요일입니다. 2016년 a월 b일은 무슨 요일일까요? 두 수 a ,b를 입력받아 2016년 a월 b일이 무슨 요일인지 리턴하는 함수, solution을 완성하세요. 요일의 이름은 일요일부터 토요일까지 각각 SUN,MON,TUE,WED,THU,FRI,SAT\n",
    "\n",
    "입니다. 예를 들어 a=5, b=24라면 5월 24일은 화요일이므로 문자열 \"TUE\"를 반환하세요.\n",
    "\n",
    "제한 조건\n",
    "2016년은 윤년입니다.\n",
    "2016년 a월 b일은 실제로 있는 날입니다. (13월 26일이나 2월 45일같은 날짜는 주어지지 않습니다)\n",
    "\n",
    "입출력 예\n",
    "a=5\tb=24\tresult # \"TUE\"\n"
   ]
  },
  {
   "cell_type": "code",
   "execution_count": 2,
   "metadata": {},
   "outputs": [
    {
     "name": "stdout",
     "output_type": "stream",
     "text": [
      "WED\n"
     ]
    }
   ],
   "source": [
    "월 = {1:31,2:29,3:31,4:30,5:31,6:30,7:31,8:31,9:30,10:31,11:30,12:31}\n",
    "요일 = ['FRI','SAT','SUN','MON','TUE','WED','THU']\n",
    "\n",
    "# a = int(input('월을 입력하세요: '))\n",
    "# b = int(input('일을 입력하세요: '))\n",
    "a = 11\n",
    "b = 30\n",
    "\n",
    "week = 0\n",
    "for i in range(a) :\n",
    "    try : \n",
    "        week += 월[i] \n",
    "    except :\n",
    "        pass\n",
    "day = (week+b)% 7\n",
    "\n",
    "print(요일[day-1])"
   ]
  },
  {
   "cell_type": "markdown",
   "metadata": {},
   "source": [
    "### 명예의 전당\n",
    "\"명예의 전당\"이라는 TV 프로그램에서는 매일 1명의 가수가 노래를 부르고, 시청자들의 문자 투표수로 가수에게 점수를 부여합니다. 매일 출연한 가수의 점수가 지금까지 출연 가수들의 점수 중 상위 k번째 이내이면 해당 가수의 점수를 명예의 전당이라는 목록에 올려 기념합니다. 즉 프로그램 시작 이후 초기에 k일까지는 모든 출연 가수의 점수가 명예의 전당에 오르게 됩니다. k일 다음부터는 출연 가수의 점수가 기존의 명예의 전당 목록의 k번째 순위의 가수 점수보다 더 높으면, 출연 가수의 점수가 명예의 전당에 오르게 되고 기존의 k번째 순위의 점수는 명예의 전당에서 내려오게 됩니다.\n",
    "\n",
    "이 프로그램에서는 매일 \"명예의 전당\"의 최하위 점수를 발표합니다. 예를 들어, k = 3이고, 7일 동안 진행된 가수의 점수가 [10, 100, 20, 150, 1, 100, 200]이라면, 명예의 전당에서 발표된 점수는 아래의 그림과 같이 [10, 10, 10, 20, 20, 100, 100]입니다.\n",
    "\n",
    "명예의 전당 목록의 점수의 개수 k, 1일부터 마지막 날까지 출연한 가수들의 점수인 score가 주어졌을 때, 매일 발표된 명예의 전당의 최하위 점수를 return하는 solution 함수를 완성해주세요.\n",
    "\n",
    "\n",
    "제한사항\n",
    "3 ≤ k ≤ 100\n",
    "7 ≤ score의 길이 ≤ 1,000\n",
    "0 ≤ score[i] ≤ 2,000"
   ]
  },
  {
   "cell_type": "code",
   "execution_count": 3,
   "metadata": {},
   "outputs": [
    {
     "name": "stdout",
     "output_type": "stream",
     "text": [
      "[10, 10, 10, 20, 20, 100, 100]\n"
     ]
    }
   ],
   "source": [
    "k = 3 # 명예의 전당 점수의 개수 \n",
    "score = [10, 100, 20, 150, 1, 100, 200] # result = [10, 10, 10, 20, 20, 100, 100]\n",
    "\n",
    "명예의전당 = []\n",
    "꼴찌 = []\n",
    "for i in range(len(score)) :\n",
    "    명예의전당.append(score[i])\n",
    "    명예의전당.sort(reverse=True)\n",
    "    if i < k :\n",
    "        꼴찌.append(명예의전당[-1])\n",
    "    else :\n",
    "        꼴찌.append(명예의전당[k-1])\n",
    "print(꼴찌)"
   ]
  },
  {
   "cell_type": "markdown",
   "metadata": {},
   "source": [
    "### 포켓몬\n",
    "당신은 폰켓몬을 잡기 위한 오랜 여행 끝에, 홍 박사님의 연구실에 도착했습니다. 홍 박사님은 당신에게 자신의 연구실에 있는 총 N 마리의 폰켓몬 중에서 N/2마리를 가져가도 좋다고 했습니다.\n",
    "홍 박사님 연구실의 폰켓몬은 종류에 따라 번호를 붙여 구분합니다. 따라서 같은 종류의 폰켓몬은 같은 번호를 가지고 있습니다. 예를 들어 연구실에 총 4마리의 폰켓몬이 있고, 각 폰켓몬의 종류 번호가 [3번, 1번, 2번, 3번]이라면 이는 3번 폰켓몬 두 마리, 1번 폰켓몬 한 마리, 2번 폰켓몬 한 마리가 있음을 나타냅니다. 이때, 4마리의 폰켓몬 중 2마리를 고르는 방법은 다음과 같이 6가지가 있습니다.\n",
    "\n",
    "첫 번째(3번), 두 번째(1번) 폰켓몬을 선택\n",
    "첫 번째(3번), 세 번째(2번) 폰켓몬을 선택\n",
    "첫 번째(3번), 네 번째(3번) 폰켓몬을 선택\n",
    "두 번째(1번), 세 번째(2번) 폰켓몬을 선택\n",
    "두 번째(1번), 네 번째(3번) 폰켓몬을 선택\n",
    "세 번째(2번), 네 번째(3번) 폰켓몬을 선택\n",
    "이때, 첫 번째(3번) 폰켓몬과 네 번째(3번) 폰켓몬을 선택하는 방법은 한 종류(3번 폰켓몬 두 마리)의 폰켓몬만 가질 수 있지만, 다른 방법들은 모두 두 종류의 폰켓몬을 가질 수 있습니다. 따라서 위 예시에서 가질 수 있는 폰켓몬 종류 수의 최댓값은 2가 됩니다.\n",
    "당신은 최대한 다양한 종류의 폰켓몬을 가지길 원하기 때문에, 최대한 많은 종류의 폰켓몬을 포함해서 N/2마리를 선택하려 합니다. N마리 폰켓몬의 종류 번호가 담긴 배열 nums가 매개변수로 주어질 때, N/2마리의 폰켓몬을 선택하는 방법 중, 가장 많은 종류의 폰켓몬을 선택하는 방법을 찾아, 그때의 폰켓몬 종류 번호의 개수를 return 하도록 solution 함수를 완성해주세요.\n",
    "\n",
    "제한사항\n",
    "nums는 폰켓몬의 종류 번호가 담긴 1차원 배열입니다.\n",
    "nums의 길이(N)는 1 이상 10,000 이하의 자연수이며, 항상 짝수로 주어집니다.\n",
    "폰켓몬의 종류 번호는 1 이상 200,000 이하의 자연수로 나타냅니다.\n",
    "가장 많은 종류의 폰켓몬을 선택하는 방법이 여러 가지인 경우에도, 선택할 수 있는 폰켓몬 종류 개수의 최댓값 하나만 return 하면 됩니다.\n",
    "\n",
    "\n",
    "nums\tresult\n",
    "[3,1,2,3]\t2\n",
    "[3,3,3,2,2,4]\t3\n",
    "[3,3,3,2,2,2]\t2\n",
    "\n",
    "입출력 예 #2\n",
    "6마리의 폰켓몬이 있으므로, 3마리의 폰켓몬을 골라야 합니다.\n",
    "가장 많은 종류의 폰켓몬을 고르기 위해서는 3번 폰켓몬 한 마리, 2번 폰켓몬 한 마리, 4번 폰켓몬 한 마리를 고르면 되며, 따라서 3을 return 합니다.\n",
    "\n",
    "입출력 예 #3\n",
    "6마리의 폰켓몬이 있으므로, 3마리의 폰켓몬을 골라야 합니다.\n",
    "가장 많은 종류의 폰켓몬을 고르기 위해서는 3번 폰켓몬 한 마리와 2번 폰켓몬 두 마리를 고르거나, 혹은 3번 폰켓몬 두 마리와 2번 폰켓몬 한 마리를 고르면 됩니다. 따라서 최대 고를 수 있는 폰켓몬 종류의 수는 2입니다."
   ]
  },
  {
   "cell_type": "code",
   "execution_count": 3,
   "metadata": {},
   "outputs": [
    {
     "name": "stdout",
     "output_type": "stream",
     "text": [
      "3\n"
     ]
    }
   ],
   "source": [
    "nums = [3,3,3,2,2,4]\n",
    "최대 = len(nums)//2    # 내가 가져가는 폰켓몬\n",
    "종류 = len(set(nums))  # 폰켓몬 종류 \n",
    "\n",
    "answer = 최대 if 최대 <= 종류 else 종류\n",
    "answer"
   ]
  },
  {
   "cell_type": "code",
   "execution_count": 4,
   "metadata": {},
   "outputs": [
    {
     "data": {
      "text/plain": [
       "3"
      ]
     },
     "execution_count": 4,
     "metadata": {},
     "output_type": "execute_result"
    }
   ],
   "source": [
    "# 한 줄로 변경 \n",
    "nums = [3,3,3,2,2,4]\n",
    "\n",
    "answer = len(nums)//2  if len(nums)//2 <= len(set(nums))  else len(set(nums)) \n",
    "answer"
   ]
  },
  {
   "cell_type": "markdown",
   "metadata": {},
   "source": [
    "### 과일장수\n",
    "\n",
    "\n",
    "과일 장수가 사과 상자를 포장하고 있습니다. 사과는 상태에 따라 1점부터 k점까지의 점수로 분류하며, k점이 최상품의 사과이고 1점이 최하품의 사과입니다. 사과 한 상자의 가격은 다음과 같이 결정됩니다.\n",
    "\n",
    "한 상자에 사과를 m개씩 담아 포장합니다.\n",
    "상자에 담긴 사과 중 가장 낮은 점수가 p (1 ≤ p ≤ k)점인 경우, 사과 한 상자의 가격은 p * m 입니다.\n",
    "과일 장수가 가능한 많은 사과를 팔았을 때, 얻을 수 있는 최대 이익을 계산하고자 합니다.(사과는 상자 단위로만 판매하며, 남는 사과는 버립니다)\n",
    "\n",
    "예를 들어, k = 3, m = 4, 사과 7개의 점수가 [1, 2, 3, 1, 2, 3, 1]이라면, 다음과 같이 [2, 3, 2, 3]으로 구성된 사과 상자 1개를 만들어 판매하여 최대 이익을 얻을 수 있습니다.\n",
    "\n",
    "(최저 사과 점수) x (한 상자에 담긴 사과 개수) x (상자의 개수) = 2 x 4 x 1 = 8\n",
    "사과의 최대 점수 k, 한 상자에 들어가는 사과의 수 m, 사과들의 점수 score가 주어졌을 때, 과일 장수가 얻을 수 있는 최대 이익을 return하는 solution 함수를 완성해주세요.\n",
    "\n",
    "제한사항\n",
    "3 ≤ k ≤ 9\n",
    "3 ≤ m ≤ 10\n",
    "7 ≤ score의 길이 ≤ 1,000,000\n",
    "1 ≤ score[i] ≤ k\n",
    "이익이 발생하지 않는 경우에는 0을 return 해주세요.\n",
    "\n",
    "\n",
    "\n",
    "입출력 예\n",
    "k\tm\tscore\tresult\n",
    "3\t4\t[1, 2, 3, 1, 2, 3, 1]\t8\n",
    "4\t3\t[4, 1, 2, 2, 4, 4, 4, 4, 1, 2, 4, 2]\t33\n",
    "\n",
    "\n",
    "입출력 예 #2\n",
    "\n",
    "다음과 같이 사과 상자를 포장하여 모두 팔면 최대 이익을 낼 수 있습니다.\n",
    "사과 상자\t가격\n",
    "[1, 1, 2]\t1 x 3 = 3\n",
    "[2, 2, 2]\t2 x 3 = 6\n",
    "[4, 4, 4]\t4 x 3 = 12\n",
    "[4, 4, 4]\t4 x 3 = 12\n",
    "따라서 (1 x 3 x 1) + (2 x 3 x 1) + (4 x 3 x 2) = 33을 return합니다."
   ]
  },
  {
   "cell_type": "code",
   "execution_count": 5,
   "metadata": {},
   "outputs": [
    {
     "data": {
      "text/plain": [
       "33"
      ]
     },
     "execution_count": 5,
     "metadata": {},
     "output_type": "execute_result"
    }
   ],
   "source": [
    "k = 4\n",
    "m = 3\n",
    "score = [4, 1, 2, 2, 4, 4, 4, 4, 1, 2, 4, 2]\t\n",
    "\n",
    "score.sort(reverse=True)\n",
    "최대이익 = sum([score[i]*m for i in range(m-1,len(score),m)])\n",
    "최대이익"
   ]
  },
  {
   "cell_type": "markdown",
   "metadata": {},
   "source": [
    "### 카드뭉치\n",
    "\n",
    "코니는 영어 단어가 적힌 카드 뭉치 두 개를 선물로 받았습니다. 코니는 다음과 같은 규칙으로 카드에 적힌 단어들을 사용해 원하는 순서의 단어 배열을 만들 수 있는지 알고 싶습니다.\n",
    "\n",
    "원하는 카드 뭉치에서 카드를 순서대로 한 장씩 사용합니다.\n",
    "한 번 사용한 카드는 다시 사용할 수 없습니다.\n",
    "카드를 사용하지 않고 다음 카드로 넘어갈 수 없습니다.\n",
    "기존에 주어진 카드 뭉치의 단어 순서는 바꿀 수 없습니다.\n",
    "예를 들어 첫 번째 카드 뭉치에 순서대로 [\"i\", \"drink\", \"water\"], 두 번째 카드 뭉치에 순서대로 [\"want\", \"to\"]가 적혀있을 때 [\"i\", \"want\", \"to\", \"drink\", \"water\"] 순서의 단어 배열을 만들려고 한다면 첫 번째 카드 뭉치에서 \"i\"를 사용한 후 두 번째 카드 뭉치에서 \"want\"와 \"to\"를 사용하고 첫 번째 카드뭉치에 \"drink\"와 \"water\"를 차례대로 사용하면 원하는 순서의 단어 배열을 만들 수 있습니다.\n",
    "\n",
    "문자열로 이루어진 배열 cards1, cards2와 원하는 단어 배열 goal이 매개변수로 주어질 때, cards1과 cards2에 적힌 단어들로 goal를 만들 있다면 \"Yes\"를, 만들 수 없다면 \"No\"를 return하는 solution 함수를 완성해주세요.\n",
    "\n",
    "제한사항\n",
    "1 ≤ cards1의 길이, cards2의 길이 ≤ 10\n",
    "1 ≤ cards1[i]의 길이, cards2[i]의 길이 ≤ 10\n",
    "cards1과 cards2에는 서로 다른 단어만 존재합니다.\n",
    "2 ≤ goal의 길이 ≤ cards1의 길이 + cards2의 길이\n",
    "1 ≤ goal[i]의 길이 ≤ 10\n",
    "goal의 원소는 cards1과 cards2의 원소들로만 이루어져 있습니다.\n",
    "cards1, cards2, goal의 문자열들은 모두 알파벳 소문자로만 이루어져 있습니다.\n",
    "\n",
    "\n",
    "입출력 예\n",
    "cards1\tcards2\tgoal\tresult\n",
    "[\"i\", \"drink\", \"water\"]\t[\"want\", \"to\"]\t[\"i\", \"want\", \"to\", \"drink\", \"water\"]\t\"Yes\"\n",
    "[\"i\", \"water\", \"drink\"]\t[\"want\", \"to\"]\t[\"i\", \"want\", \"to\", \"drink\", \"water\"]\t\"No\"\n",
    "\n",
    "\n",
    "입출력 예 #2\n",
    "\n",
    "cards1에서 \"i\"를 사용하고 cards2에서 \"want\"와 \"to\"를 사용하여 \"i want to\"까지는 만들 수 있지만 \"water\"가 \"drink\"보다 먼저 사용되어야 하기 때문에 해당 문장을 완성시킬 수 없습니다. 따라서 \"No\"를 반환합니다."
   ]
  },
  {
   "cell_type": "code",
   "execution_count": 6,
   "metadata": {},
   "outputs": [
    {
     "name": "stdout",
     "output_type": "stream",
     "text": [
      "No\n"
     ]
    }
   ],
   "source": [
    "cards1 = [\"i\", \"water\", \"drink\"]\n",
    "cards2 = [\"want\", \"to\"]\n",
    "goal = [\"i\", \"want\", \"to\", \"drink\", \"water\"]\n",
    "\n",
    "cards1.append('끝')\n",
    "cards2.append('끝')\n",
    "\n",
    "cards1.reverse()\n",
    "cards2.reverse()\n",
    "\n",
    "new_goal = []\n",
    "for i in range(len(goal)) :    \n",
    "    if goal[i] == cards1[-1] :        \n",
    "        cards1.pop()\n",
    "        new_goal.append(goal[i])\n",
    "    elif goal[i] == cards2[-1]  :\n",
    "        cards2.pop()\n",
    "        new_goal.append(goal[i])  \n",
    "    else :\n",
    "        answer = \"No\"\n",
    "        break\n",
    "\n",
    "\n",
    "if goal == new_goal :\n",
    "    answer = 'Yes'\n",
    "else : \n",
    "    answer = \"No\"\n",
    "\n",
    "print(answer)\n",
    "\n",
    "\n",
    "\n",
    "# def solution(cards1, cards2, goal):\n",
    "#     answer = \"Yes\"\n",
    "#     try :\n",
    "#         for i in goal :        \n",
    "#             if cards1[0] in i :\n",
    "#                 cards1.remove(i)\n",
    "#             elif cards2[0] in i :\n",
    "#                 cards2.remove(i)\n",
    "#             else :\n",
    "#                 answer = 'No'\n",
    "#                 break\n",
    "#     except :\n",
    "#         answer = 'No'\n",
    "#     return answer\n"
   ]
  }
 ],
 "metadata": {
  "kernelspec": {
   "display_name": "Python 3",
   "language": "python",
   "name": "python3"
  },
  "language_info": {
   "codemirror_mode": {
    "name": "ipython",
    "version": 3
   },
   "file_extension": ".py",
   "mimetype": "text/x-python",
   "name": "python",
   "nbconvert_exporter": "python",
   "pygments_lexer": "ipython3",
   "version": "3.11.1"
  },
  "orig_nbformat": 4
 },
 "nbformat": 4,
 "nbformat_minor": 2
}
